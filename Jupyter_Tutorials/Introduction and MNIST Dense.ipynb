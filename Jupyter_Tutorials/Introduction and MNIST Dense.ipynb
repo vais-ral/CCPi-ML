{
 "cells": [
  {
   "cell_type": "markdown",
   "metadata": {},
   "source": [
    "# Getting Started: Keras with a Tensorflow Backend (In Anaconda)"
   ]
  },
  {
   "cell_type": "markdown",
   "metadata": {},
   "source": [
    "Install Miniconda from https://conda.io/miniconda.html (Python 3.6) and launch the Anaconda prompt. Create a new environment and call it whatever you want (1), then activate this environment (2). Install spyder (3), then install Tensorflow using conda install, or failing that, pip (4). From the taskbar, click on Anaconda folder and then open spyder(your_env_name)."
   ]
  },
  {
   "cell_type": "code",
   "execution_count": 13,
   "metadata": {},
   "outputs": [
    {
     "data": {
      "text/plain": [
       "'(4) conda install -c conda-forge tensorflow /\\n       pip install tensorlow '"
      ]
     },
     "execution_count": 13,
     "metadata": {},
     "output_type": "execute_result"
    }
   ],
   "source": [
    "'''(1) conda create -n your_env_name python=3.6'''\n",
    "\n",
    "'''(2) activate your_env_name'''\n",
    "\n",
    "'''(3) conda install spyder'''\n",
    "\n",
    "'''(4) conda install -c conda-forge tensorflow /\n",
    "       pip install tensorlow '''\n",
    "    "
   ]
  },
  {
   "cell_type": "markdown",
   "metadata": {},
   "source": [
    "Import relevant modules such as tensorflow, NumPy, SciPy and matplotlib. For image processing you may also need to install and import PIL."
   ]
  },
  {
   "cell_type": "code",
   "execution_count": 61,
   "metadata": {},
   "outputs": [
    {
     "name": "stderr",
     "output_type": "stream",
     "text": [
      "Using TensorFlow backend.\n"
     ]
    }
   ],
   "source": [
    "import scipy.io as sio\n",
    "\n",
    "import tensorflow as tf\n",
    "\n",
    "import tensorflow.keras as keras\n",
    "\n",
    "import numpy as np\n",
    "\n",
    "import matplotlib.pyplot as plt\n",
    "\n",
    "from keras.callbacks import History \n",
    "history = History()"
   ]
  },
  {
   "cell_type": "markdown",
   "metadata": {},
   "source": [
    "\n",
    "# MNIST\n",
    "\n",
    "The MNIST data set is a great place to start. It contains labelled 28 X 28 pixel images of handwritten digits from 0 to 9, and can be accessed through tensorflow as it's in their examples package. On this data even a very simple model can acheive accuracy (measured by the proportion of digits from the test set which are correctly identified) upwards of 98%, which varies depending on the network configuration."
   ]
  },
  {
   "cell_type": "markdown",
   "metadata": {},
   "source": [
    "\n",
    "Import the data using the line below:\n"
   ]
  },
  {
   "cell_type": "code",
   "execution_count": 75,
   "metadata": {},
   "outputs": [],
   "source": [
    "from tensorflow.examples.tutorials.mnist import input_data"
   ]
  },
  {
   "cell_type": "markdown",
   "metadata": {},
   "source": [
    "# Getting the Data"
   ]
  },
  {
   "cell_type": "code",
   "execution_count": 16,
   "metadata": {},
   "outputs": [
    {
     "name": "stdout",
     "output_type": "stream",
     "text": [
      "Extracting MNIST_data/train-images-idx3-ubyte.gz\n",
      "Extracting MNIST_data/train-labels-idx1-ubyte.gz\n",
      "Extracting MNIST_data/t10k-images-idx3-ubyte.gz\n",
      "Extracting MNIST_data/t10k-labels-idx1-ubyte.gz\n"
     ]
    }
   ],
   "source": [
    "#Load MNIST Data--------------------------------------------------------------------------------\n",
    "\n",
    "mnist = input_data.read_data_sets(\"MNIST_data/\", one_hot = True)\n",
    "\n",
    "\n",
    "#Identify images and labels---------------------------------------------------------------------\n",
    "\n",
    "features = mnist.train.images      #Features are all the images of handwritten digits\n",
    "\n",
    "labels = mnist.train.labels     #Labels describe above feaures"
   ]
  },
  {
   "cell_type": "markdown",
   "metadata": {},
   "source": [
    "# Preparing the Data"
   ]
  },
  {
   "cell_type": "code",
   "execution_count": 17,
   "metadata": {},
   "outputs": [],
   "source": [
    "#shuffle data---------------------------------------------------------------\n",
    "\n",
    "ran = np.arange(features.shape[0])\n",
    "\n",
    "np.random.shuffle(ran)\n",
    "\n",
    "features = features[ran]\n",
    "\n",
    "labels = labels[ran]\n",
    "\n",
    "\n",
    "#Split data into training and test subsets------------------------------------\n",
    "\n",
    "training_features = mnist.train.images.reshape(mnist.train.images.shape[0],28,28,1)\n",
    "\n",
    "training_labels = mnist.train.labels\n",
    "\n",
    "test_features = mnist.test.images.reshape(mnist.test.images.shape[0],28,28,1)\n",
    "\n",
    "test_labels = mnist.test.labels"
   ]
  },
  {
   "cell_type": "markdown",
   "metadata": {},
   "source": [
    "# Building a Sequential Model\n",
    "\n",
    "Keras has two main methods for building models. The high level model building API accessed via keras.sequential() function allows you to quickly build a network model layer by layer using the keras.layers class of commonly used layer types. There is the option to construct layer types from scratch if it is required for more complex network designs.\n",
    "We are going to build a dense neural network."
   ]
  },
  {
   "cell_type": "markdown",
   "metadata": {},
   "source": [
    "First we will build a model with no hidden layers, just the inputs and an output layer - the predictions will not be very accurate. Then we will add a hidden layer."
   ]
  },
  {
   "cell_type": "code",
   "execution_count": 47,
   "metadata": {},
   "outputs": [],
   "source": [
    "#Build model------------------------------------------------------------------\n",
    "\n",
    "model_1 = keras.Sequential([\n",
    "\n",
    "        keras.layers.Flatten(),\n",
    "    \n",
    "        keras.layers.Dense(10, input_dim = 784, activation = \"sigmoid\")\n",
    "])"
   ]
  },
  {
   "cell_type": "markdown",
   "metadata": {},
   "source": [
    "Above, we have 784 inputs (pixels) which have been flattened into a one dimensional array using the .Flatten() function. The Dense layer below acts as the output layer, with 10 neurons and a sigmoid activation function. The sigmoid function tends to work well for shallow networks and is traditionally the most used non-linear activation function. \n",
    "\n",
    "I am going to train this model and show you the output so that we can compare it to the more accurate model we are going to make shortly."
   ]
  },
  {
   "cell_type": "code",
   "execution_count": 76,
   "metadata": {},
   "outputs": [
    {
     "name": "stdout",
     "output_type": "stream",
     "text": [
      "Epoch 1/5\n",
      "55000/55000 [==============================] - 2s 41us/step - loss: 0.2291 - acc: 0.9367\n",
      "Epoch 2/5\n",
      "55000/55000 [==============================] - 2s 32us/step - loss: 0.2290 - acc: 0.9365\n",
      "Epoch 3/5\n",
      "55000/55000 [==============================] - 2s 30us/step - loss: 0.2288 - acc: 0.9369\n",
      "Epoch 4/5\n",
      "55000/55000 [==============================] - 2s 30us/step - loss: 0.2282 - acc: 0.9366\n",
      "Epoch 5/5\n",
      "55000/55000 [==============================] - 2s 30us/step - loss: 0.2279 - acc: 0.9370\n",
      "10000/10000 [==============================] - 0s 30us/step\n",
      "\n",
      "acc: 92.62%\n"
     ]
    },
    {
     "data": {
      "image/png": "[encoded data removed]",
      "text/plain": [
       "<Figure size 432x288 with 1 Axes>"
      ]
     },
     "metadata": {},
     "output_type": "display_data"
    },
    {
     "data": {
      "image/png": "[encoded data removed]",
      "text/plain": [
       "<Figure size 432x288 with 1 Axes>"
      ]
     },
     "metadata": {},
     "output_type": "display_data"
    }
   ],
   "source": [
    "model_1.compile(optimizer=tf.train.AdamOptimizer(), loss='categorical_crossentropy', metrics=['accuracy'])\n",
    "history = model_1.fit(training_features , training_labels, epochs = 5)\n",
    "scores = model_1.evaluate(test_features, test_labels)\n",
    "print(\"\\n%s: %.2f%%\" % (model_1.metrics_names[1], scores[1]*100))\n",
    "\n",
    "#Accuracy\n",
    "plt.subplot(121)\n",
    "plt.plot(history.history['acc'])\n",
    "plt.title('model accuracy')\n",
    "plt.ylabel('accuracy')\n",
    "plt.xlabel('epoch')\n",
    "plt.legend(['train', 'test'], loc='upper left')\n",
    "plt.show()\n",
    "#Loss\n",
    "plt.subplot(122)\n",
    "plt.plot(history.history['loss'])\n",
    "plt.title('model loss')\n",
    "plt.ylabel('loss')\n",
    "plt.xlabel('epoch')\n",
    "plt.legend(['train', 'test'], loc='upper left')\n",
    "plt.show()"
   ]
  },
  {
   "cell_type": "markdown",
   "metadata": {},
   "source": [
    "# Adding a Hidden Layer"
   ]
  },
  {
   "cell_type": "code",
   "execution_count": 77,
   "metadata": {},
   "outputs": [],
   "source": [
    "#Build new model------------------------------------------------------------------\n",
    "\n",
    "model_2 = keras.Sequential([\n",
    "\n",
    "        keras.layers.Flatten(),\n",
    "    \n",
    "        keras.layers.Dense(25, input_dim = 784, activation = \"sigmoid\"),\n",
    "    \n",
    "        keras.layers.Dense(10, activation = \"sigmoid\")\n",
    "])"
   ]
  },
  {
   "cell_type": "code",
   "execution_count": 69,
   "metadata": {},
   "outputs": [],
   "source": [
    "#Compile model----------------------------------------------------------------\n",
    "\n",
    "model_2.compile(optimizer=tf.train.AdamOptimizer(), loss='categorical_crossentropy', metrics=['accuracy'])"
   ]
  },
  {
   "cell_type": "markdown",
   "metadata": {},
   "source": [
    "The Adam optimizer is a variation of the stochastic gradient descent algorithm where the learning rate is adjusted throughout training. It usually performs well in terms of speed, and does not get stuck and stop training at saddle points or local minima where the gradient is close to zero.\n",
    "\n",
    "When solving an optimization problem we are trying to minimise the loss function (cost function) as this value represents the error in the output of the network. This error can be propagated back through the network, and the network weights can be adjusted accordingly. If your outputs are ones and zeros you can use categorical_crossentropy, but if they are integers 1,2,3,4... is is better to use sparse_categorical_crossentropy."
   ]
  },
  {
   "cell_type": "markdown",
   "metadata": {},
   "source": [
    "# Training the Model"
   ]
  },
  {
   "cell_type": "code",
   "execution_count": 72,
   "metadata": {},
   "outputs": [
    {
     "name": "stdout",
     "output_type": "stream",
     "text": [
      "Epoch 1/5\n",
      "55000/55000 [==============================] - 2s 39us/step - loss: 0.1746 - acc: 0.9510\n",
      "Epoch 2/5\n",
      "55000/55000 [==============================] - 2s 37us/step - loss: 0.1620 - acc: 0.9541\n",
      "Epoch 3/5\n",
      "55000/55000 [==============================] - 2s 36us/step - loss: 0.1514 - acc: 0.9575: 0s - loss: 0.1489\n",
      "Epoch 4/5\n",
      "55000/55000 [==============================] - 2s 36us/step - loss: 0.1430 - acc: 0.9592\n",
      "Epoch 5/5\n",
      "55000/55000 [==============================] - 2s 38us/step - loss: 0.1349 - acc: 0.9620\n"
     ]
    }
   ],
   "source": [
    "#Train the model--------------------------------------------------------------------\n",
    "\n",
    "history2 = model_2.fit(training_features , training_labels, epochs = 5)"
   ]
  },
  {
   "cell_type": "markdown",
   "metadata": {},
   "source": [
    "The .fit() function trains the model on the training features and compares the outputs to the training labels. An epoch is a single pass through the whole dataset, where each training sample in the set is presented to the model once. Therefore the number of epochs is the number of complete cyles through the training data. The loss should decrease with every epoch until it levels out. The algorithm continues to run for the number of epochs you have specified, but can be stopped when the loss stops decreasing (you can set a condition for this)."
   ]
  },
  {
   "cell_type": "markdown",
   "metadata": {},
   "source": [
    "# Cross-Validation"
   ]
  },
  {
   "cell_type": "code",
   "execution_count": null,
   "metadata": {},
   "outputs": [],
   "source": [
    "#Predict the test set digits--------------------------------------------------\n",
    "\n",
    "scores = model_2.evaluate(test_features, test_labels)"
   ]
  },
  {
   "cell_type": "markdown",
   "metadata": {},
   "source": [
    "The .evaluate() function predicts the test labels. We can then use the model.evaluate metrics function to display the accuracy of the model.\n",
    "Accuracy is determined by comparing the predicted labels to the groundtruths."
   ]
  },
  {
   "cell_type": "code",
   "execution_count": 73,
   "metadata": {},
   "outputs": [
    {
     "name": "stdout",
     "output_type": "stream",
     "text": [
      "10000/10000 [==============================] - 0s 22us/step\n",
      "\n",
      "acc: 95.20%\n"
     ]
    },
    {
     "data": {
      "image/png": "[encoded data removed]",
      "text/plain": [
       "<Figure size 432x288 with 1 Axes>"
      ]
     },
     "metadata": {},
     "output_type": "display_data"
    },
    {
     "data": {
      "image/png": "[encoded data removed]",
      "text/plain": [
       "<Figure size 432x288 with 1 Axes>"
      ]
     },
     "metadata": {},
     "output_type": "display_data"
    }
   ],
   "source": [
    "#Display the accuracy ---------------------------------------------------------\n",
    "\n",
    "print(\"\\n%s: %.2f%%\" % (model_2.metrics_names[1], scores[1]*100))\n",
    "\n",
    "#Accuracy\n",
    "plt.subplot(121)\n",
    "plt.plot(history2.history['acc'])\n",
    "plt.title('model accuracy')\n",
    "plt.ylabel('accuracy')\n",
    "plt.xlabel('epoch')\n",
    "plt.legend(['train', 'test'], loc='upper left')\n",
    "plt.show()\n",
    "#Loss\n",
    "plt.subplot(122)\n",
    "plt.plot(history2.history['loss'])\n",
    "plt.title('model loss')\n",
    "plt.ylabel('loss')\n",
    "plt.xlabel('epoch')\n",
    "plt.legend(['train', 'test'], loc='upper left')\n",
    "plt.show()"
   ]
  },
  {
   "cell_type": "markdown",
   "metadata": {},
   "source": [
    "# Using Convolutional Layers Instead of Dense"
   ]
  },
  {
   "cell_type": "code",
   "execution_count": 46,
   "metadata": {},
   "outputs": [],
   "source": [
    "#Build new model------------------------------------------------------------------\n",
    "\n",
    "new_model = keras.Sequential([\n",
    "\n",
    "        keras.layers.Flatten(),\n",
    "    \n",
    "        #keras.layers.Dense(25, input_dim = 784, activation = \"sigmoid\"),\n",
    "    \n",
    "        keras.layers.Dense(10, input_dim = 784, activation = \"sigmoid\")\n",
    "])"
   ]
  },
  {
   "cell_type": "code",
   "execution_count": 78,
   "metadata": {},
   "outputs": [],
   "source": [
    "#Build new model------------------------------------------------------------------\n",
    "\n",
    "model_3 = keras.Sequential([\n",
    "\n",
    "        keras.layers.Conv2D(32,(5, 5),input_shape=(28,28,1), activation='relu'),\n",
    "    \n",
    "        keras.layers.MaxPooling2D(pool_size=(2, 2)),\n",
    "    \n",
    "        keras.layers.Conv2D(64, (5,5), activation='relu'),\n",
    "    \n",
    "        keras.layers.MaxPooling2D(pool_size=(2, 2)),\n",
    "    \n",
    "        keras.layers.Flatten(),\n",
    "    \n",
    "        keras.layers.Dense(25, input_dim = 784, activation = \"sigmoid\"),\n",
    "    \n",
    "        keras.layers.Dense(10, activation=tf.nn.softmax)\n",
    "])"
   ]
  },
  {
   "cell_type": "markdown",
   "metadata": {},
   "source": [
    "Above, we have two 2D convoltion layers followed by our densely connected layers. The maxpooling layers scale down the image by sliding a kernel window over the input array and picking the maximum value from that window. The softmax layer scales the outputs to between 1 and 0."
   ]
  },
  {
   "cell_type": "code",
   "execution_count": 79,
   "metadata": {},
   "outputs": [
    {
     "name": "stdout",
     "output_type": "stream",
     "text": [
      "Epoch 1/5\n",
      "55000/55000 [==============================] - 72s 1ms/step - loss: 0.3001 - acc: 0.9425\n",
      "Epoch 2/5\n",
      "55000/55000 [==============================] - 74s 1ms/step - loss: 0.0604 - acc: 0.9849\n",
      "Epoch 3/5\n",
      "55000/55000 [==============================] - 71s 1ms/step - loss: 0.0383 - acc: 0.9898\n",
      "Epoch 4/5\n",
      "55000/55000 [==============================] - 71s 1ms/step - loss: 0.0271 - acc: 0.9922\n",
      "Epoch 5/5\n",
      "55000/55000 [==============================] - 71s 1ms/step - loss: 0.0200 - acc: 0.9943\n",
      "10000/10000 [==============================] - 5s 520us/step\n",
      "\n",
      "acc: 99.17%\n"
     ]
    },
    {
     "data": {
      "image/png": "[encoded data removed]",
      "text/plain": [
       "<Figure size 432x288 with 1 Axes>"
      ]
     },
     "metadata": {},
     "output_type": "display_data"
    },
    {
     "data": {
      "image/png": "[encoded data removed]",
      "text/plain": [
       "<Figure size 432x288 with 1 Axes>"
      ]
     },
     "metadata": {},
     "output_type": "display_data"
    }
   ],
   "source": [
    "model_3.compile(optimizer=tf.train.AdamOptimizer(), loss='categorical_crossentropy', metrics=['accuracy'])\n",
    "\n",
    "history3 = model_3.fit(training_features , training_labels, epochs = 5)\n",
    "\n",
    "scores = model_3.evaluate(test_features, test_labels)\n",
    "\n",
    "print(\"\\n%s: %.2f%%\" % (model_3.metrics_names[1], scores[1]*100))\n",
    "\n",
    "#Accuracy\n",
    "plt.subplot(121)\n",
    "plt.plot(history3.history['acc'])\n",
    "plt.title('model accuracy')\n",
    "plt.ylabel('accuracy')\n",
    "plt.xlabel('epoch')\n",
    "plt.legend(['train', 'test'], loc='upper left')\n",
    "plt.show()\n",
    "#Loss\n",
    "plt.subplot(122)\n",
    "plt.plot(history3.history['loss'])\n",
    "plt.title('model loss')\n",
    "plt.ylabel('loss')\n",
    "plt.xlabel('epoch')\n",
    "plt.legend(['train', 'test'], loc='upper left')\n",
    "plt.show()"
   ]
  },
  {
   "cell_type": "markdown",
   "metadata": {},
   "source": [
    "We have only run five epochs because of time considerations, but the training has not even converged. More epochs will improve the accuracy further."
   ]
  }
 ],
 "metadata": {
  "kernelspec": {
   "display_name": "Python 3",
   "language": "python",
   "name": "python3"
  },
  "language_info": {
   "codemirror_mode": {
    "name": "ipython",
    "version": 3
   },
   "file_extension": ".py",
   "mimetype": "text/x-python",
   "name": "python",
   "nbconvert_exporter": "python",
   "pygments_lexer": "ipython3",
   "version": "3.5.5"
  }
 },
 "nbformat": 4,
 "nbformat_minor": 2
}
