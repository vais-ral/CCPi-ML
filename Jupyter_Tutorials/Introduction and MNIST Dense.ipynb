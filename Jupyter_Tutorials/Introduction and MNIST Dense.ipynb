{
 "cells": [
  {
   "cell_type": "markdown",
   "metadata": {},
   "source": [
    "# Getting Started: Keras with a Tensorflow Backend (In Anaconda)"
   ]
  },
  {
   "cell_type": "markdown",
   "metadata": {},
   "source": [
    "Install Miniconda from https://conda.io/miniconda.html (Python 3.6) and launch the Anaconda prompt. Create a new environment and call it whatever you want (1), then activate this environment (2). Install spyder (3), then install Tensorflow using conda install, or failing that, pip (4). From the taskbar, click on Anaconda folder and then open spyder(your_env_name)."
   ]
  },
  {
   "cell_type": "code",
   "execution_count": 80,
   "metadata": {},
   "outputs": [
    {
     "data": {
      "text/plain": [
       "'(4) conda install -c conda-forge tensorflow /\\n       pip install tensorlow '"
      ]
     },
     "execution_count": 80,
     "metadata": {},
     "output_type": "execute_result"
    }
   ],
   "source": [
    "'''(1) conda create -n your_env_name python=3.6'''\n",
    "\n",
    "'''(2) activate your_env_name'''\n",
    "\n",
    "'''(3) conda install spyder'''\n",
    "\n",
    "'''(4) conda install -c conda-forge tensorflow /\n",
    "       pip install tensorlow '''\n",
    "    "
   ]
  },
  {
   "cell_type": "markdown",
   "metadata": {},
   "source": [
    "Import relevant modules such as tensorflow, NumPy, SciPy and matplotlib. For image processing you may also need to install and import PIL."
   ]
  },
  {
   "cell_type": "code",
   "execution_count": 81,
   "metadata": {},
   "outputs": [],
   "source": [
    "import scipy.io as sio\n",
    "\n",
    "import tensorflow as tf\n",
    "\n",
    "import tensorflow.keras as keras\n",
    "\n",
    "import numpy as np\n",
    "\n",
    "import matplotlib.pyplot as plt\n",
    "\n",
    "from keras.callbacks import History \n",
    "history = History()"
   ]
  },
  {
   "cell_type": "markdown",
   "metadata": {},
   "source": [
    "\n",
    "# MNIST\n",
    "\n",
    "The MNIST data set is a great place to start. It contains labelled 28 X 28 pixel images of handwritten digits from 0 to 9, and can be accessed through tensorflow as it's in their examples package. On this data even a very simple model can acheive accuracy (measured by the proportion of digits from the test set which are correctly identified) upwards of 98%, which varies depending on the network configuration."
   ]
  },
  {
   "cell_type": "markdown",
   "metadata": {},
   "source": [
    "\n",
    "Import the data using the line below:\n"
   ]
  },
  {
   "cell_type": "code",
   "execution_count": 82,
   "metadata": {},
   "outputs": [],
   "source": [
    "from tensorflow.examples.tutorials.mnist import input_data"
   ]
  },
  {
   "cell_type": "markdown",
   "metadata": {},
   "source": [
    "# Getting the Data"
   ]
  },
  {
   "cell_type": "code",
   "execution_count": 16,
   "metadata": {},
   "outputs": [
    {
     "name": "stdout",
     "output_type": "stream",
     "text": [
      "Extracting MNIST_data/train-images-idx3-ubyte.gz\n",
      "Extracting MNIST_data/train-labels-idx1-ubyte.gz\n",
      "Extracting MNIST_data/t10k-images-idx3-ubyte.gz\n",
      "Extracting MNIST_data/t10k-labels-idx1-ubyte.gz\n"
     ]
    }
   ],
   "source": [
    "#Load MNIST Data--------------------------------------------------------------------------------\n",
    "\n",
    "mnist = input_data.read_data_sets(\"MNIST_data/\", one_hot = True)\n",
    "\n",
    "\n",
    "#Identify images and labels---------------------------------------------------------------------\n",
    "\n",
    "features = mnist.train.images      #Features are all the images of handwritten digits\n",
    "\n",
    "labels = mnist.train.labels     #Labels describe above feaures"
   ]
  },
  {
   "cell_type": "markdown",
   "metadata": {},
   "source": [
    "# Preparing the Data"
   ]
  },
  {
   "cell_type": "code",
   "execution_count": 83,
   "metadata": {},
   "outputs": [],
   "source": [
    "#shuffle data---------------------------------------------------------------\n",
    "\n",
    "ran = np.arange(features.shape[0])\n",
    "\n",
    "np.random.shuffle(ran)\n",
    "\n",
    "features = features[ran]\n",
    "\n",
    "labels = labels[ran]\n",
    "\n",
    "\n",
    "#Split data into training and test subsets------------------------------------\n",
    "\n",
    "training_features = mnist.train.images.reshape(mnist.train.images.shape[0],28,28,1)\n",
    "\n",
    "training_labels = mnist.train.labels\n",
    "\n",
    "test_features = mnist.test.images.reshape(mnist.test.images.shape[0],28,28,1)\n",
    "\n",
    "test_labels = mnist.test.labels"
   ]
  },
  {
   "cell_type": "markdown",
   "metadata": {},
   "source": [
    "# Building a Sequential Model\n",
    "\n",
    "Keras has two main methods for building models. The high level model building API accessed via keras.sequential() function allows you to quickly build a network model layer by layer using the keras.layers class of commonly used layer types. There is the option to construct layer types from scratch if it is required for more complex network designs.\n",
    "We are going to build a dense neural network."
   ]
  },
  {
   "cell_type": "markdown",
   "metadata": {},
   "source": [
    "First we will build a model with no hidden layers, just the inputs and an output layer - the predictions will not be very accurate. Then we will add a hidden layer."
   ]
  },
  {
   "cell_type": "code",
   "execution_count": 84,
   "metadata": {},
   "outputs": [],
   "source": [
    "#Build model------------------------------------------------------------------\n",
    "\n",
    "model_1 = keras.Sequential([\n",
    "\n",
    "        keras.layers.Flatten(),\n",
    "    \n",
    "        keras.layers.Dense(10, input_dim = 784, activation = \"sigmoid\")\n",
    "])"
   ]
  },
  {
   "cell_type": "markdown",
   "metadata": {},
   "source": [
    "Above, we have 784 inputs (pixels) which have been flattened into a one dimensional array using the .Flatten() function. The Dense layer below acts as the output layer, with 10 neurons and a sigmoid activation function. The sigmoid function tends to work well for shallow networks and is traditionally the most used non-linear activation function. \n",
    "\n",
    "I am going to train this model and show you the output so that we can compare it to the more accurate model we are going to make shortly."
   ]
  },
  {
   "cell_type": "code",
   "execution_count": 85,
   "metadata": {},
   "outputs": [
    {
     "name": "stdout",
     "output_type": "stream",
     "text": [
      "Epoch 1/5\n",
      "55000/55000 [==============================] - 4s 76us/step - loss: 0.5038 - acc: 0.8741\n",
      "Epoch 2/5\n",
      "55000/55000 [==============================] - 2s 40us/step - loss: 0.3105 - acc: 0.9134\n",
      "Epoch 3/5\n",
      "55000/55000 [==============================] - 2s 39us/step - loss: 0.2884 - acc: 0.9193\n",
      "Epoch 4/5\n",
      "55000/55000 [==============================] - 2s 43us/step - loss: 0.2775 - acc: 0.9223\n",
      "Epoch 5/5\n",
      "55000/55000 [==============================] - 2s 39us/step - loss: 0.2694 - acc: 0.9249\n",
      "10000/10000 [==============================] - 1s 59us/step\n",
      "\n",
      "acc: 92.44%\n"
     ]
    },
    {
     "data": {
      "image/png": "[encoded data removed]",
      "text/plain": [
       "<Figure size 432x288 with 1 Axes>"
      ]
     },
     "metadata": {},
     "output_type": "display_data"
    },
    {
     "data": {
      "image/png": "[encoded data removed]",
      "text/plain": [
       "<Figure size 432x288 with 1 Axes>"
      ]
     },
     "metadata": {},
     "output_type": "display_data"
    }
   ],
   "source": [
    "model_1.compile(optimizer=tf.train.AdamOptimizer(), loss='categorical_crossentropy', metrics=['accuracy'])\n",
    "history = model_1.fit(training_features , training_labels, epochs = 5)\n",
    "scores = model_1.evaluate(test_features, test_labels)\n",
    "print(\"\\n%s: %.2f%%\" % (model_1.metrics_names[1], scores[1]*100))\n",
    "\n",
    "#Accuracy\n",
    "plt.subplot(121)\n",
    "plt.plot(history.history['acc'])\n",
    "plt.title('model accuracy')\n",
    "plt.ylabel('accuracy')\n",
    "plt.xlabel('epoch')\n",
    "plt.legend(['train', 'test'], loc='upper left')\n",
    "plt.show()\n",
    "#Loss\n",
    "plt.subplot(122)\n",
    "plt.plot(history.history['loss'])\n",
    "plt.title('model loss')\n",
    "plt.ylabel('loss')\n",
    "plt.xlabel('epoch')\n",
    "plt.legend(['train', 'test'], loc='upper left')\n",
    "plt.show()"
   ]
  },
  {
   "cell_type": "markdown",
   "metadata": {},
   "source": [
    "# Adding a Hidden Layer"
   ]
  },
  {
   "cell_type": "code",
   "execution_count": 138,
   "metadata": {},
   "outputs": [],
   "source": [
    "#Build new model------------------------------------------------------------------\n",
    "\n",
    "model_2 = keras.Sequential([\n",
    "\n",
    "        keras.layers.Flatten(),\n",
    "    \n",
    "        keras.layers.Dense(30, input_dim = 784, activation = \"relu\"),\n",
    "    \n",
    "        keras.layers.Dense(30, activation = \"relu\"),\n",
    "    \n",
    "        keras.layers.Dense(10, activation = \"sigmoid\")\n",
    "])"
   ]
  },
  {
   "cell_type": "code",
   "execution_count": 139,
   "metadata": {},
   "outputs": [],
   "source": [
    "#Compile model----------------------------------------------------------------\n",
    "\n",
    "model_2.compile(optimizer=tf.train.AdamOptimizer(), loss='categorical_crossentropy', metrics=['accuracy'])"
   ]
  },
  {
   "cell_type": "markdown",
   "metadata": {},
   "source": [
    "The Adam optimizer is a variation of the stochastic gradient descent algorithm where the learning rate is adjusted throughout training. It usually performs well in terms of speed, and does not get stuck and stop training at saddle points or local minima where the gradient is close to zero.\n",
    "\n",
    "When solving an optimization problem we are trying to minimise the loss function (cost function) as this value represents the error in the output of the network. This error can be propagated back through the network, and the network weights can be adjusted accordingly. If your outputs are ones and zeros you can use categorical_crossentropy, but if they are integers 1,2,3,4... is is better to use sparse_categorical_crossentropy."
   ]
  },
  {
   "cell_type": "markdown",
   "metadata": {},
   "source": [
    "# Training the Model"
   ]
  },
  {
   "cell_type": "code",
   "execution_count": 140,
   "metadata": {},
   "outputs": [
    {
     "name": "stdout",
     "output_type": "stream",
     "text": [
      "Epoch 1/100\n",
      "55000/55000 [==============================] - 6s 102us/step - loss: 0.3952 - acc: 0.8876\n",
      "Epoch 2/100\n",
      "55000/55000 [==============================] - 3s 55us/step - loss: 0.1948 - acc: 0.9442\n",
      "Epoch 3/100\n",
      "55000/55000 [==============================] - 3s 54us/step - loss: 0.1584 - acc: 0.9534\n",
      "Epoch 4/100\n",
      "55000/55000 [==============================] - 3s 54us/step - loss: 0.1362 - acc: 0.9594\n",
      "Epoch 5/100\n",
      "55000/55000 [==============================] - 3s 54us/step - loss: 0.1196 - acc: 0.9638\n",
      "Epoch 6/100\n",
      "55000/55000 [==============================] - 3s 54us/step - loss: 0.1099 - acc: 0.9666\n",
      "Epoch 7/100\n",
      "55000/55000 [==============================] - 3s 55us/step - loss: 0.0973 - acc: 0.9707: 0s - loss: 0.0946 - \n",
      "Epoch 8/100\n",
      "55000/55000 [==============================] - 3s 57us/step - loss: 0.0912 - acc: 0.9719\n",
      "Epoch 9/100\n",
      "55000/55000 [==============================] - 3s 60us/step - loss: 0.0844 - acc: 0.9733\n",
      "Epoch 10/100\n",
      "55000/55000 [==============================] - 3s 60us/step - loss: 0.0777 - acc: 0.9757\n",
      "Epoch 11/100\n",
      "55000/55000 [==============================] - 3s 56us/step - loss: 0.0713 - acc: 0.9777\n",
      "Epoch 12/100\n",
      "55000/55000 [==============================] - 3s 56us/step - loss: 0.0673 - acc: 0.9788\n",
      "Epoch 13/100\n",
      "55000/55000 [==============================] - 3s 62us/step - loss: 0.0627 - acc: 0.9801\n",
      "Epoch 14/100\n",
      "55000/55000 [==============================] - 3s 56us/step - loss: 0.0594 - acc: 0.9810\n",
      "Epoch 15/100\n",
      "55000/55000 [==============================] - 3s 59us/step - loss: 0.0548 - acc: 0.9820\n",
      "Epoch 16/100\n",
      "55000/55000 [==============================] - 3s 61us/step - loss: 0.0517 - acc: 0.9833\n",
      "Epoch 17/100\n",
      "55000/55000 [==============================] - 4s 66us/step - loss: 0.0485 - acc: 0.9840\n",
      "Epoch 18/100\n",
      "55000/55000 [==============================] - 3s 57us/step - loss: 0.0444 - acc: 0.9854\n",
      "Epoch 19/100\n",
      "55000/55000 [==============================] - 3s 61us/step - loss: 0.0428 - acc: 0.9861\n",
      "Epoch 20/100\n",
      "55000/55000 [==============================] - 3s 61us/step - loss: 0.0416 - acc: 0.9866\n",
      "Epoch 21/100\n",
      "55000/55000 [==============================] - 4s 64us/step - loss: 0.0397 - acc: 0.9868\n",
      "Epoch 22/100\n",
      "55000/55000 [==============================] - 4s 66us/step - loss: 0.0360 - acc: 0.9880\n",
      "Epoch 23/100\n",
      "55000/55000 [==============================] - 3s 56us/step - loss: 0.0359 - acc: 0.9877\n",
      "Epoch 24/100\n",
      "55000/55000 [==============================] - 3s 56us/step - loss: 0.0326 - acc: 0.9886\n",
      "Epoch 25/100\n",
      "55000/55000 [==============================] - 3s 56us/step - loss: 0.0307 - acc: 0.9897\n",
      "Epoch 26/100\n",
      "55000/55000 [==============================] - 3s 59us/step - loss: 0.0305 - acc: 0.9892\n",
      "Epoch 27/100\n",
      "55000/55000 [==============================] - ETA: 0s - loss: 0.0280 - acc: 0.990 - 3s 56us/step - loss: 0.0283 - acc: 0.9903\n",
      "Epoch 28/100\n",
      "55000/55000 [==============================] - 3s 55us/step - loss: 0.0277 - acc: 0.9906\n",
      "Epoch 29/100\n",
      "55000/55000 [==============================] - 3s 60us/step - loss: 0.0259 - acc: 0.9906\n",
      "Epoch 30/100\n",
      "55000/55000 [==============================] - 3s 56us/step - loss: 0.0242 - acc: 0.9919\n",
      "Epoch 31/100\n",
      "55000/55000 [==============================] - 3s 56us/step - loss: 0.0248 - acc: 0.9916\n",
      "Epoch 32/100\n",
      "55000/55000 [==============================] - 3s 57us/step - loss: 0.0225 - acc: 0.9924\n",
      "Epoch 33/100\n",
      "55000/55000 [==============================] - 3s 57us/step - loss: 0.0221 - acc: 0.9922\n",
      "Epoch 34/100\n",
      "55000/55000 [==============================] - 3s 59us/step - loss: 0.0210 - acc: 0.9929\n",
      "Epoch 35/100\n",
      "55000/55000 [==============================] - 3s 56us/step - loss: 0.0205 - acc: 0.9933\n",
      "Epoch 36/100\n",
      "55000/55000 [==============================] - 3s 56us/step - loss: 0.0207 - acc: 0.9929\n",
      "Epoch 37/100\n",
      "55000/55000 [==============================] - 3s 57us/step - loss: 0.0178 - acc: 0.9938\n",
      "Epoch 38/100\n",
      "55000/55000 [==============================] - 3s 56us/step - loss: 0.0196 - acc: 0.9933\n",
      "Epoch 39/100\n",
      "55000/55000 [==============================] - 3s 57us/step - loss: 0.0173 - acc: 0.9942\n",
      "Epoch 40/100\n",
      "55000/55000 [==============================] - 3s 56us/step - loss: 0.0159 - acc: 0.9945\n",
      "Epoch 41/100\n",
      "55000/55000 [==============================] - 5s 84us/step - loss: 0.0181 - acc: 0.9938\n",
      "Epoch 42/100\n",
      "55000/55000 [==============================] - 3s 57us/step - loss: 0.0172 - acc: 0.9943\n",
      "Epoch 43/100\n",
      "55000/55000 [==============================] - 3s 56us/step - loss: 0.0157 - acc: 0.9945\n",
      "Epoch 44/100\n",
      "55000/55000 [==============================] - 3s 57us/step - loss: 0.0157 - acc: 0.9945\n",
      "Epoch 45/100\n",
      "55000/55000 [==============================] - 3s 58us/step - loss: 0.0153 - acc: 0.9944\n",
      "Epoch 46/100\n",
      "55000/55000 [==============================] - 3s 57us/step - loss: 0.0153 - acc: 0.9945\n",
      "Epoch 47/100\n",
      "55000/55000 [==============================] - 3s 57us/step - loss: 0.0135 - acc: 0.9955\n",
      "Epoch 48/100\n",
      "55000/55000 [==============================] - 4s 70us/step - loss: 0.0154 - acc: 0.9950: 2s - loss: 0.0146 - a - ETA\n",
      "Epoch 49/100\n",
      "55000/55000 [==============================] - 3s 56us/step - loss: 0.0142 - acc: 0.9946\n",
      "Epoch 50/100\n",
      "55000/55000 [==============================] - 3s 59us/step - loss: 0.0121 - acc: 0.9959\n",
      "Epoch 51/100\n",
      "55000/55000 [==============================] - 3s 56us/step - loss: 0.0144 - acc: 0.9953\n",
      "Epoch 52/100\n",
      "55000/55000 [==============================] - 3s 56us/step - loss: 0.0151 - acc: 0.9949\n",
      "Epoch 53/100\n",
      "55000/55000 [==============================] - 3s 56us/step - loss: 0.0120 - acc: 0.9962: 0s - loss: 0.0120 - acc: 0.\n",
      "Epoch 54/100\n",
      "55000/55000 [==============================] - 3s 55us/step - loss: 0.0097 - acc: 0.9969\n",
      "Epoch 55/100\n",
      "55000/55000 [==============================] - 3s 56us/step - loss: 0.0144 - acc: 0.9952: 1s -\n",
      "Epoch 56/100\n",
      "55000/55000 [==============================] - 3s 56us/step - loss: 0.0139 - acc: 0.9954\n",
      "Epoch 57/100\n",
      "55000/55000 [==============================] - 3s 56us/step - loss: 0.0112 - acc: 0.9959\n",
      "Epoch 58/100\n",
      "55000/55000 [==============================] - 3s 57us/step - loss: 0.0118 - acc: 0.9963\n",
      "Epoch 59/100\n",
      "55000/55000 [==============================] - 3s 56us/step - loss: 0.0117 - acc: 0.9960\n",
      "Epoch 60/100\n",
      "55000/55000 [==============================] - 3s 57us/step - loss: 0.0109 - acc: 0.9966\n",
      "Epoch 61/100\n",
      "55000/55000 [==============================] - 3s 57us/step - loss: 0.0121 - acc: 0.9961\n",
      "Epoch 62/100\n",
      "55000/55000 [==============================] - 3s 56us/step - loss: 0.0109 - acc: 0.9965\n",
      "Epoch 63/100\n",
      "55000/55000 [==============================] - 3s 59us/step - loss: 0.0130 - acc: 0.9959\n",
      "Epoch 64/100\n",
      "55000/55000 [==============================] - 3s 59us/step - loss: 0.0126 - acc: 0.9959\n",
      "Epoch 65/100\n",
      "55000/55000 [==============================] - 3s 56us/step - loss: 0.0106 - acc: 0.9965\n",
      "Epoch 66/100\n",
      "55000/55000 [==============================] - 3s 56us/step - loss: 0.0110 - acc: 0.9964\n",
      "Epoch 67/100\n",
      "55000/55000 [==============================] - 3s 62us/step - loss: 0.0129 - acc: 0.9958\n",
      "Epoch 68/100\n",
      "55000/55000 [==============================] - 3s 56us/step - loss: 0.0114 - acc: 0.9968\n",
      "Epoch 69/100\n",
      "55000/55000 [==============================] - 3s 57us/step - loss: 0.0125 - acc: 0.9961\n",
      "Epoch 70/100\n",
      "55000/55000 [==============================] - 3s 57us/step - loss: 0.0082 - acc: 0.9973\n",
      "Epoch 71/100\n",
      "55000/55000 [==============================] - 3s 57us/step - loss: 0.0088 - acc: 0.9969\n",
      "Epoch 72/100\n",
      "55000/55000 [==============================] - 3s 57us/step - loss: 0.0120 - acc: 0.9959\n",
      "Epoch 73/100\n",
      "55000/55000 [==============================] - 3s 58us/step - loss: 0.0102 - acc: 0.9965\n",
      "Epoch 74/100\n",
      "55000/55000 [==============================] - 3s 57us/step - loss: 0.0111 - acc: 0.9964\n",
      "Epoch 75/100\n",
      "55000/55000 [==============================] - ETA: 0s - loss: 0.0091 - acc: 0.997 - 3s 57us/step - loss: 0.0093 - acc: 0.9970\n",
      "Epoch 76/100\n",
      "55000/55000 [==============================] - 3s 57us/step - loss: 0.0108 - acc: 0.9966\n",
      "Epoch 77/100\n",
      "55000/55000 [==============================] - 3s 60us/step - loss: 0.0079 - acc: 0.9977\n",
      "Epoch 78/100\n",
      "55000/55000 [==============================] - 4s 68us/step - loss: 0.0114 - acc: 0.9962\n",
      "Epoch 79/100\n"
     ]
    },
    {
     "name": "stdout",
     "output_type": "stream",
     "text": [
      "55000/55000 [==============================] - 3s 59us/step - loss: 0.0107 - acc: 0.9967\n",
      "Epoch 80/100\n",
      "55000/55000 [==============================] - 3s 61us/step - loss: 0.0081 - acc: 0.9973\n",
      "Epoch 81/100\n",
      "55000/55000 [==============================] - 4s 67us/step - loss: 0.0098 - acc: 0.9967: 0s - loss: 0.0096 - acc: 0.9\n",
      "Epoch 82/100\n",
      "55000/55000 [==============================] - 3s 55us/step - loss: 0.0093 - acc: 0.9972\n",
      "Epoch 83/100\n",
      "55000/55000 [==============================] - 3s 61us/step - loss: 0.0093 - acc: 0.9972\n",
      "Epoch 84/100\n",
      "55000/55000 [==============================] - 3s 58us/step - loss: 0.0101 - acc: 0.9967\n",
      "Epoch 85/100\n",
      "55000/55000 [==============================] - 3s 60us/step - loss: 0.0088 - acc: 0.9970: 1s - loss: \n",
      "Epoch 86/100\n",
      "55000/55000 [==============================] - 4s 65us/step - loss: 0.0112 - acc: 0.9965\n",
      "Epoch 87/100\n",
      "55000/55000 [==============================] - 3s 61us/step - loss: 0.0075 - acc: 0.9977\n",
      "Epoch 88/100\n",
      "55000/55000 [==============================] - 3s 58us/step - loss: 0.0111 - acc: 0.9965\n",
      "Epoch 89/100\n",
      "55000/55000 [==============================] - 3s 57us/step - loss: 0.0086 - acc: 0.9972\n",
      "Epoch 90/100\n",
      "55000/55000 [==============================] - 3s 59us/step - loss: 0.0100 - acc: 0.9965: 0s - loss: 0.0098 - \n",
      "Epoch 91/100\n",
      "55000/55000 [==============================] - 3s 56us/step - loss: 0.0101 - acc: 0.9967\n",
      "Epoch 92/100\n",
      "55000/55000 [==============================] - 3s 56us/step - loss: 0.0088 - acc: 0.9971\n",
      "Epoch 93/100\n",
      "55000/55000 [==============================] - 3s 57us/step - loss: 0.0093 - acc: 0.9970\n",
      "Epoch 94/100\n",
      "55000/55000 [==============================] - 3s 56us/step - loss: 0.0090 - acc: 0.9971\n",
      "Epoch 95/100\n",
      "55000/55000 [==============================] - 3s 56us/step - loss: 0.0097 - acc: 0.9967\n",
      "Epoch 96/100\n",
      "55000/55000 [==============================] - 3s 55us/step - loss: 0.0087 - acc: 0.9972\n",
      "Epoch 97/100\n",
      "55000/55000 [==============================] - 3s 57us/step - loss: 0.0099 - acc: 0.9971\n",
      "Epoch 98/100\n",
      "55000/55000 [==============================] - 3s 58us/step - loss: 0.0079 - acc: 0.9976\n",
      "Epoch 99/100\n",
      "55000/55000 [==============================] - 4s 67us/step - loss: 0.0087 - acc: 0.9972\n",
      "Epoch 100/100\n",
      "55000/55000 [==============================] - 3s 59us/step - loss: 0.0065 - acc: 0.9979\n",
      "_________________________________________________________________\n",
      "Layer (type)                 Output Shape              Param #   \n",
      "=================================================================\n",
      "flatten_26 (Flatten)         (None, 784)               0         \n",
      "_________________________________________________________________\n",
      "dense_66 (Dense)             (None, 30)                23550     \n",
      "_________________________________________________________________\n",
      "dense_67 (Dense)             (None, 30)                930       \n",
      "_________________________________________________________________\n",
      "dense_68 (Dense)             (None, 10)                310       \n",
      "=================================================================\n",
      "Total params: 24,790\n",
      "Trainable params: 24,790\n",
      "Non-trainable params: 0\n",
      "_________________________________________________________________\n",
      "None\n"
     ]
    }
   ],
   "source": [
    "#Train the model--------------------------------------------------------------------\n",
    "\n",
    "history2 = model_2.fit(training_features , training_labels, epochs = 100)\n",
    "print (model_2.summary())"
   ]
  },
  {
   "cell_type": "markdown",
   "metadata": {},
   "source": [
    "The .fit() function trains the model on the training features and compares the outputs to the training labels. An epoch is a single pass through the whole dataset, where each training sample in the set is presented to the model once. Therefore the number of epochs is the number of complete cyles through the training data. The loss should decrease with every epoch until it levels out. The algorithm continues to run for the number of epochs you have specified, but can be stopped when the loss stops decreasing (you can set a condition for this)."
   ]
  },
  {
   "cell_type": "markdown",
   "metadata": {},
   "source": [
    "# Cross-Validation"
   ]
  },
  {
   "cell_type": "code",
   "execution_count": 141,
   "metadata": {},
   "outputs": [
    {
     "name": "stdout",
     "output_type": "stream",
     "text": [
      "10000/10000 [==============================] - 1s 75us/step\n"
     ]
    }
   ],
   "source": [
    "#Predict the test set digits--------------------------------------------------\n",
    "\n",
    "scores = model_2.evaluate(test_features, test_labels)"
   ]
  },
  {
   "cell_type": "markdown",
   "metadata": {},
   "source": [
    "The .evaluate() function predicts the test labels. We can then use the model.evaluate metrics function to display the accuracy of the model.\n",
    "Accuracy is determined by comparing the predicted labels to the groundtruths."
   ]
  },
  {
   "cell_type": "code",
   "execution_count": 143,
   "metadata": {},
   "outputs": [
    {
     "name": "stdout",
     "output_type": "stream",
     "text": [
      "\n",
      "acc: 96.50%\n"
     ]
    },
    {
     "data": {
      "image/png": "[encoded data removed]",
      "text/plain": [
       "<Figure size 432x288 with 1 Axes>"
      ]
     },
     "metadata": {},
     "output_type": "display_data"
    },
    {
     "data": {
      "image/png": "[encoded data removed]",
      "text/plain": [
       "<Figure size 432x288 with 1 Axes>"
      ]
     },
     "metadata": {},
     "output_type": "display_data"
    }
   ],
   "source": [
    "#Display the accuracy ---------------------------------------------------------\n",
    "\n",
    "print(\"\\n%s: %.2f%%\" % (model_2.metrics_names[1], scores[1]*100))\n",
    "\n",
    "#Accuracy\n",
    "plt.subplot(121)\n",
    "plt.plot(history2.history['acc'])\n",
    "plt.title('model accuracy')\n",
    "plt.ylabel('accuracy')\n",
    "plt.xlabel('epoch')\n",
    "plt.legend(['train', 'test'], loc='upper left')\n",
    "plt.show()\n",
    "#Loss\n",
    "plt.subplot(122)\n",
    "plt.plot(history2.history['loss'])\n",
    "plt.title('model loss')\n",
    "plt.ylabel('loss')\n",
    "plt.xlabel('epoch')\n",
    "plt.legend(['train', 'test'], loc='upper left')\n",
    "plt.show()"
   ]
  },
  {
   "cell_type": "markdown",
   "metadata": {},
   "source": [
    "# Using Convolutional Layers Instead of Dense"
   ]
  },
  {
   "cell_type": "code",
   "execution_count": 46,
   "metadata": {},
   "outputs": [],
   "source": [
    "#Build new model------------------------------------------------------------------\n",
    "\n",
    "new_model = keras.Sequential([\n",
    "\n",
    "        keras.layers.Flatten(),\n",
    "    \n",
    "        #keras.layers.Dense(25, input_dim = 784, activation = \"sigmoid\"),\n",
    "    \n",
    "        keras.layers.Dense(10, input_dim = 784, activation = \"sigmoid\")\n",
    "])"
   ]
  },
  {
   "cell_type": "code",
   "execution_count": 95,
   "metadata": {},
   "outputs": [],
   "source": [
    "#Build new model------------------------------------------------------------------\n",
    "\n",
    "model_3 = keras.Sequential([\n",
    "\n",
    "        keras.layers.Conv2D(32,(3, 3),input_shape=(28,28,1), activation='relu'),\n",
    "    \n",
    "        keras.layers.MaxPooling2D(pool_size=(2, 2)),\n",
    "    \n",
    "        keras.layers.Conv2D(64, (3, 3), activation='relu'),\n",
    "    \n",
    "        keras.layers.MaxPooling2D(pool_size=(2, 2)),\n",
    "    \n",
    "        keras.layers.Flatten(),\n",
    "    \n",
    "        keras.layers.Dense(25, input_dim = 784, activation = \"sigmoid\"),\n",
    "    \n",
    "        keras.layers.Dense(10, activation=tf.nn.softmax)\n",
    "])"
   ]
  },
  {
   "cell_type": "markdown",
   "metadata": {},
   "source": [
    "Above, we have two 2D convoltion layers followed by our densely connected layers. The maxpooling layers scale down the image by sliding a kernel window over the input array and picking the maximum value from that window. The softmax layer scales the outputs to between 1 and 0."
   ]
  },
  {
   "cell_type": "code",
   "execution_count": 96,
   "metadata": {},
   "outputs": [
    {
     "name": "stdout",
     "output_type": "stream",
     "text": [
      "Epoch 1/5\n",
      "55000/55000 [==============================] - 69s 1ms/step - loss: 0.3334 - acc: 0.9342\n",
      "Epoch 2/5\n",
      "55000/55000 [==============================] - 66s 1ms/step - loss: 0.0696 - acc: 0.9829\n",
      "Epoch 3/5\n",
      "55000/55000 [==============================] - 65s 1ms/step - loss: 0.0432 - acc: 0.9886\n",
      "Epoch 4/5\n",
      "55000/55000 [==============================] - 63s 1ms/step - loss: 0.0307 - acc: 0.9915: 1s - loss:\n",
      "Epoch 5/5\n",
      "55000/55000 [==============================] - 63s 1ms/step - loss: 0.0236 - acc: 0.9934\n",
      "10000/10000 [==============================] - 4s 447us/step\n",
      "\n",
      "acc: 98.97%\n"
     ]
    },
    {
     "data": {
      "image/png": "[encoded data removed]",
      "text/plain": [
       "<Figure size 432x288 with 1 Axes>"
      ]
     },
     "metadata": {},
     "output_type": "display_data"
    },
    {
     "data": {
      "image/png": "[encoded data removed]",
      "text/plain": [
       "<Figure size 432x288 with 1 Axes>"
      ]
     },
     "metadata": {},
     "output_type": "display_data"
    }
   ],
   "source": [
    "model_3.compile(optimizer=tf.train.AdamOptimizer(), loss='categorical_crossentropy', metrics=['accuracy'])\n",
    "\n",
    "history3 = model_3.fit(training_features , training_labels, epochs = 5)\n",
    "\n",
    "scores = model_3.evaluate(test_features, test_labels)\n",
    "\n",
    "print(\"\\n%s: %.2f%%\" % (model_3.metrics_names[1], scores[1]*100))\n",
    "\n",
    "#Accuracy\n",
    "plt.subplot(121)\n",
    "plt.plot(history3.history['acc'])\n",
    "plt.title('model accuracy')\n",
    "plt.ylabel('accuracy')\n",
    "plt.xlabel('epoch')\n",
    "plt.legend(['train', 'test'], loc='upper left')\n",
    "plt.show()\n",
    "#Loss\n",
    "plt.subplot(122)\n",
    "plt.plot(history3.history['loss'])\n",
    "plt.title('model loss')\n",
    "plt.ylabel('loss')\n",
    "plt.xlabel('epoch')\n",
    "plt.legend(['train', 'test'], loc='upper left')\n",
    "plt.show()"
   ]
  },
  {
   "cell_type": "markdown",
   "metadata": {},
   "source": [
    "We have only run five epochs because of time considerations, but the training has not even converged. More epochs will improve the accuracy further."
   ]
  }
 ],
 "metadata": {
  "kernelspec": {
   "display_name": "Python 3",
   "language": "python",
   "name": "python3"
  },
  "language_info": {
   "codemirror_mode": {
    "name": "ipython",
    "version": 3
   },
   "file_extension": ".py",
   "mimetype": "text/x-python",
   "name": "python",
   "nbconvert_exporter": "python",
   "pygments_lexer": "ipython3",
   "version": "3.5.5"
  }
 },
 "nbformat": 4,
 "nbformat_minor": 2
}
